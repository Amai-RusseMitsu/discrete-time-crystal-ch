{
 "cells": [
  {
   "cell_type": "markdown",
   "metadata": {},
   "source": [
    "# **Suzuki-Trotter Error Check**"
   ]
  },
  {
   "cell_type": "markdown",
   "metadata": {},
   "source": [
    "## General Setup"
   ]
  },
  {
   "cell_type": "markdown",
   "metadata": {},
   "source": [
    "Notebook is structured such that one can \"run all\". Or change parameters and then \"run all\" assuming all packages are installed"
   ]
  },
  {
   "cell_type": "markdown",
   "metadata": {},
   "source": [
    "### Imports"
   ]
  },
  {
   "cell_type": "code",
   "execution_count": 1,
   "metadata": {},
   "outputs": [],
   "source": [
    "from qiskit import *\n",
    "import numpy as np\n",
    "from qutip import *\n",
    "from matplotlib import *\n",
    "from pylatexenc import *\n",
    "from matplotlib import pyplot as plt\n",
    "from qiskit.tools.jupyter import *\n",
    "import qiskit.quantum_info as qi\n",
    "import itertools\n",
    "from tqdm import tqdm"
   ]
  },
  {
   "cell_type": "markdown",
   "metadata": {},
   "source": [
    "### Parameter Definitions"
   ]
  },
  {
   "cell_type": "code",
   "execution_count": 27,
   "metadata": {},
   "outputs": [
    {
     "name": "stdout",
     "output_type": "stream",
     "text": [
      "599\n"
     ]
    }
   ],
   "source": [
    "n = 5\n",
    "tau = 0.5\n",
    "gamma = 0.05\n",
    "omega = 1\n",
    "T = 2*np.pi/omega\n",
    "epsilon = gamma/T\n",
    "lamb = gamma/T\n",
    "J = tau/T\n",
    "h = 2*(np.pi/2 + epsilon)/T\n",
    "\n",
    "tmax = 60\n",
    "dt = 0.1\n",
    "steps = int(tmax//dt)\n",
    "print(steps)"
   ]
  },
  {
   "cell_type": "markdown",
   "metadata": {},
   "source": [
    "## Qutip"
   ]
  },
  {
   "cell_type": "code",
   "execution_count": 28,
   "metadata": {},
   "outputs": [],
   "source": [
    "dim = [2] * n\n",
    "lanes = list(range(n))\n",
    "\n",
    "def QubitOperation(U,i,n):\n",
    "    Q = tensor(qeye(2**(i-1)),U,qeye(2**(n-i)))\n",
    "    return Q\n",
    "\n",
    "def PauliX(i,n):\n",
    "    X = Qobj(QubitOperation(sigmax(),i,n),dims=[[2**n],[2**n]])\n",
    "    return X\n",
    "\n",
    "def PauliY(i,n):\n",
    "    Y = Qobj(QubitOperation(sigmay(),i,n),dims=[[2**n],[2**n]])\n",
    "    return Y\n",
    "\n",
    "def PauliZ(i,n):\n",
    "    Z = Qobj(QubitOperation(sigmaz(),i,n),dims=[[2**n],[2**n]])\n",
    "    return Z\n",
    "\n",
    "def PauliP(i,n):\n",
    "    P = (PauliX(i,n) + 1j*PauliY(i,n))/2\n",
    "    return P\n",
    "\n",
    "def PauliM(i,n):\n",
    "    M = (PauliX(i,n) - 1j*PauliY(i,n))/2\n",
    "    return M\n",
    "\n",
    "def H2_coeff(t,args):\n",
    "    return -h*np.cos(omega*t/2)**2\n",
    "\n",
    "def QO(l):\n",
    "    return Qobj(l,dims=[[2],[1]])"
   ]
  },
  {
   "cell_type": "code",
   "execution_count": 29,
   "metadata": {},
   "outputs": [],
   "source": [
    "H0 = PauliY(1,n) + PauliZ(1,n)\n",
    "for i in range(2,n+1):\n",
    "    H0 = H0 + PauliY(i,n) + PauliZ(i,n)\n",
    "H1 = (PauliZ(1,n) * PauliZ(2,n))\n",
    "for i in range(2,n):\n",
    "    H1 = H1 + (PauliZ(i,n) * PauliZ(i+1,n))\n",
    "H2 = PauliX(1,n)\n",
    "for i in range(2,n+1):\n",
    "    H2 = H2 + PauliX(i,n)\n",
    "EX = (1/n)*PauliX(1,n)\n",
    "for i in range(2,n+1):\n",
    "    EX = EX + (1/n)*PauliX(i,n)\n",
    "EY = (1/n)*PauliY(1,n)\n",
    "for i in range(2,n+1):\n",
    "    EY = EY + (1/n)*PauliY(i,n)\n",
    "EZ = (1/n)*PauliZ(1,n)\n",
    "for i in range(2,n+1):\n",
    "    EZ = EZ + (1/n)*PauliZ(i,n)"
   ]
  },
  {
   "cell_type": "code",
   "execution_count": 30,
   "metadata": {},
   "outputs": [],
   "source": [
    "psi_states_list = list(itertools.product([(1,1j), (1,-1j)], repeat=n))\n",
    "psi_states = 2**n * [1]\n",
    "for m in range(2**n):\n",
    "    psi_states[m] = tensor(QO(psi_states_list[m][0]),QO(psi_states_list[m][1]))\n",
    "    for i in range(2,n):\n",
    "        psi_states[m] = tensor(psi_states[m],QO(psi_states_list[m][i]))\n",
    "    psi_states[m] = Qobj(psi_states[m].trans().unit(),dims=[[2**n],[1]])"
   ]
  },
  {
   "cell_type": "code",
   "execution_count": 31,
   "metadata": {},
   "outputs": [
    {
     "name": "stderr",
     "output_type": "stream",
     "text": [
      "100%|██████████| 32/32 [00:03<00:00,  8.69it/s]\n"
     ]
    }
   ],
   "source": [
    "t = np.linspace(0, tmax, steps)\n",
    "\n",
    "H = [lamb*H0,-J*H1,[H2, H2_coeff]]\n",
    "\n",
    "qt_state = []\n",
    "for i in tqdm(range(2**n)):\n",
    "    qt_state.append(mesolve(H, psi_states[i], t))"
   ]
  },
  {
   "cell_type": "markdown",
   "metadata": {},
   "source": [
    "## Qiskit"
   ]
  },
  {
   "cell_type": "markdown",
   "metadata": {},
   "source": [
    "### Define Hamiltonian"
   ]
  },
  {
   "cell_type": "code",
   "execution_count": 32,
   "metadata": {},
   "outputs": [],
   "source": [
    "def coeff(t):\n",
    "    return -h*np.cos(omega*t/2)**2\n",
    "\n",
    "def hamiltonian(t):\n",
    "        #H0 terms with sigma^y and sigma^z\n",
    "        for i in range(n):\n",
    "            qc.ry(2*lamb*dt,i)\n",
    "            qc.rz(2*lamb*dt,i)\n",
    "        qc.barrier()\n",
    "        #H1 terms with sigma^z\n",
    "        for i in range(n-1):\n",
    "            qc.cx(i,i+1)\n",
    "            qc.rz(-2*J*dt,i+1)\n",
    "            qc.cx(i,i+1)\n",
    "        qc.barrier()\n",
    "        #H2 time dependent terms with sigma^x\n",
    "        for i in range(n):\n",
    "            qc.rx(2*coeff(t)*dt,i)"
   ]
  },
  {
   "cell_type": "markdown",
   "metadata": {},
   "source": [
    "### Run Quantum Circuit"
   ]
  },
  {
   "cell_type": "code",
   "execution_count": 33,
   "metadata": {},
   "outputs": [
    {
     "name": "stderr",
     "output_type": "stream",
     "text": [
      "100%|██████████| 32/32 [00:16<00:00,  1.91it/s]\n"
     ]
    }
   ],
   "source": [
    "results = []\n",
    "for i in tqdm(range(2**n)):\n",
    "    qc = QuantumCircuit(n)\n",
    "    psi = qi.Statevector(np.array(psi_states[i]))\n",
    "    qc.initialize(psi)\n",
    "    qc.save_state()\n",
    "    for i in range(steps):\n",
    "        hamiltonian(i*dt)\n",
    "\n",
    "    #qc.draw(output='mpl',interactive=True,filename='circuit_drawing.png',fold=1000)\n",
    "    sim = Aer.get_backend('aer_simulator')\n",
    "    qobj = assemble(qc)\n",
    "    qc.save_statevector()\n",
    "    results.append(np.array(sim.run(qc).result().get_statevector()))"
   ]
  },
  {
   "cell_type": "markdown",
   "metadata": {},
   "source": [
    "## Calculate Fidelity"
   ]
  },
  {
   "cell_type": "code",
   "execution_count": 35,
   "metadata": {},
   "outputs": [
    {
     "name": "stdout",
     "output_type": "stream",
     "text": [
      "0.9982176530617083\n"
     ]
    }
   ],
   "source": [
    "def inner_product(i):\n",
    "    qc_state = Qobj(results[i],dims=[[2**n],[1]])\n",
    "    return qc_state.overlap(qt_state[i].states[-1]) \n",
    "\n",
    "fidelity = 0\n",
    "for i in range(2**n):\n",
    "    fidelity += inner_product(i)\n",
    "fidelity = np.real(fidelity/2**n)\n",
    "print(fidelity)"
   ]
  },
  {
   "cell_type": "code",
   "execution_count": null,
   "metadata": {},
   "outputs": [],
   "source": []
  }
 ],
 "metadata": {
  "interpreter": {
   "hash": "e7c7f5672e95a9a2be42c4e43928e5e599e28d6d26d9dcfa3497d9cc4975c9c7"
  },
  "kernelspec": {
   "display_name": "Python 3.9.7 64-bit",
   "language": "python",
   "name": "python3"
  },
  "language_info": {
   "codemirror_mode": {
    "name": "ipython",
    "version": 3
   },
   "file_extension": ".py",
   "mimetype": "text/x-python",
   "name": "python",
   "nbconvert_exporter": "python",
   "pygments_lexer": "ipython3",
   "version": "3.8.8"
  },
  "orig_nbformat": 4
 },
 "nbformat": 4,
 "nbformat_minor": 2
}
